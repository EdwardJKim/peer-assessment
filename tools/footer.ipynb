{
 "cells": [
  {
   "cell_type": "markdown",
   "metadata": {},
   "source": [
    "---\n",
    "\n",
    "# Peer Assessment\n",
    "\n",
    "Run the following code cells to display the grading rubric for peer assessment. You must run both code cells. Do not use _Run All_ to run the code cells. Run one code cell at a time by pressing <kbd>shift</kbd> + <kbd>enter</kbd>.\n",
    "\n",
    "When there are no remaining tasks, press <kbd>Submit</kbd> in the _Assignments_ tab. Your peer assessment is not submitted until you hit the <kbd>Submit</kbd> button."
   ]
  },
  {
   "cell_type": "code",
   "execution_count": null,
   "metadata": {
    "collapsed": false
   },
   "outputs": [],
   "source": [
    "from IPython.display import display, Javascript\n",
    "display(Javascript(\n",
    "    '''\n",
    "    var nb = IPython.notebook;\n",
    "    var kernel = IPython.notebook.kernel;\n",
    "    var command = \"NOTEBOOK_NAME = '\" + nb.notebook_path + \"'\";\n",
    "    kernel.execute(command);\n",
    "    '''\n",
    "))"
   ]
  },
  {
   "cell_type": "code",
   "execution_count": null,
   "metadata": {
    "collapsed": false
   },
   "outputs": [],
   "source": [
    "from rubric import Rubric\n",
    "r = Rubric(NOTEBOOK_NAME)\n",
    "r.display_rubric()"
   ]
  }
 ],
 "metadata": {
  "kernelspec": {
   "display_name": "Python 3",
   "language": "python",
   "name": "python3"
  },
  "key": "value",
  "language_info": {
   "codemirror_mode": {
    "name": "ipython",
    "version": 3
   },
   "file_extension": ".py",
   "mimetype": "text/x-python",
   "name": "python",
   "nbconvert_exporter": "python",
   "pygments_lexer": "ipython3",
   "version": "3.5.2"
  }
 },
 "nbformat": 4,
 "nbformat_minor": 0
}
