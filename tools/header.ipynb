{
 "cells": [
  {
   "cell_type": "markdown",
   "metadata": {},
   "source": [
    "# Peer Assessment\n",
    "\n",
    "Peer assessments are due by 6:00 PM on Friday. The grading rubric is at the **bottom** of this notebook.\n",
    "\n",
    "Do not use _Run All_ to run the code cells. Run one code cell at a time by pressing <kbd>shift</kbd> + <kbd>enter</kbd>.\n",
    "\n",
    "---"
   ]
  }
 ],
 "metadata": {
  "kernelspec": {
   "display_name": "Python 3",
   "language": "python",
   "name": "python3"
  },
  "key": "value",
  "language_info": {
   "codemirror_mode": {
    "name": "ipython",
    "version": 3
   },
   "file_extension": ".py",
   "mimetype": "text/x-python",
   "name": "python",
   "nbconvert_exporter": "python",
   "pygments_lexer": "ipython3",
   "version": "3.5.2"
  }
 },
 "nbformat": 4,
 "nbformat_minor": 0
}
